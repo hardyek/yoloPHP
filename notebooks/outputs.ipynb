{
 "cells": [
  {
   "cell_type": "code",
   "execution_count": null,
   "id": "53ed3a66-b62a-4c6f-b4b0-7b6975d7ef76",
   "metadata": {},
   "outputs": [],
   "source": [
    "import torch\n",
    "import numpy as np\n",
    "from PIL import Image, ImageDraw\n",
    "import matplotlib.pyplot as plt\n",
    "import cv2"
   ]
  },
  {
   "cell_type": "code",
   "execution_count": null,
   "id": "d425af5c-6359-4493-97ac-2cd6c6f568ec",
   "metadata": {},
   "outputs": [],
   "source": [
    "model = torch.jit.load('/home/hardy/projects/yoloPHP/model/yolov8n.torchscript')\n",
    "model.eval()\n",
    "print(\"Model loaded\")"
   ]
  },
  {
   "cell_type": "code",
   "execution_count": null,
   "id": "893fe0b3-d4c3-4bed-8419-c32749fc9248",
   "metadata": {},
   "outputs": [],
   "source": [
    "image_path = '../testInput.jpg'\n",
    "image = Image.open(image_path).convert('RGB')\n",
    "original_size = image.size\n",
    "print(f\"Original size: {original_size}\")"
   ]
  },
  {
   "cell_type": "code",
   "execution_count": null,
   "id": "8208cc59-e409-4777-b351-636490cf593e",
   "metadata": {},
   "outputs": [],
   "source": [
    "image_resized = image.resize((640, 640))\n",
    "image_np = np.array(image_resized)"
   ]
  },
  {
   "cell_type": "code",
   "execution_count": null,
   "id": "b719b2ec-5e60-4bee-80ce-c987475ab82b",
   "metadata": {},
   "outputs": [],
   "source": [
    "input_tensor = torch.from_numpy(image_np).permute(2, 0, 1).float().div(255).unsqueeze(0)"
   ]
  },
  {
   "cell_type": "code",
   "execution_count": null,
   "id": "416a2bf0-3a28-43b7-8bfe-0ddd64714815",
   "metadata": {},
   "outputs": [],
   "source": [
    "plt.imshow(image_resized)\n",
    "plt.show()"
   ]
  },
  {
   "cell_type": "code",
   "execution_count": null,
   "id": "9fc3b544-de72-4031-bc59-cc1d5f913928",
   "metadata": {},
   "outputs": [],
   "source": [
    "with torch.no_grad():\n",
    "    outputs = model(input_tensor)"
   ]
  },
  {
   "cell_type": "code",
   "execution_count": null,
   "id": "d1b21f46-90d5-4ebd-ad79-b193831dac3a",
   "metadata": {},
   "outputs": [],
   "source": [
    "outputs = outputs[0].cpu().numpy().transpose(1, 0)\n",
    "rows = outputs.shape[0]"
   ]
  },
  {
   "cell_type": "code",
   "execution_count": null,
   "id": "5d291898-2718-442c-baf1-0dd54ff706fc",
   "metadata": {},
   "outputs": [],
   "source": [
    "boxes = []\n",
    "scores = []\n",
    "class_ids = []"
   ]
  },
  {
   "cell_type": "code",
   "execution_count": null,
   "id": "ec7b2c6b-4620-4204-bcb5-10bfd4e5e0b4",
   "metadata": {},
   "outputs": [],
   "source": [
    "for i in range(rows):\n",
    "    classes_scores = outputs[i, 4:]\n",
    "    (minScore, maxScore, minClassLoc, (x, maxClassIndex)) = cv2.minMaxLoc(classes_scores)\n",
    "    if maxScore >= 0.25:\n",
    "        box = [\n",
    "            outputs[i, 0] - (0.5 * outputs[i, 2]),\n",
    "            outputs[i, 1] - (0.5 * outputs[i, 3]),\n",
    "            outputs[i, 2],\n",
    "            outputs[i, 3],\n",
    "        ]\n",
    "        boxes.append(box)\n",
    "        scores.append(maxScore)\n",
    "        class_ids.append(maxClassIndex)\n",
    "\n",
    "# Apply NMS (Non-maximum suppression)\n",
    "indices = cv2.dnn.NMSBoxes(boxes, scores, 0.25, 0.45)"
   ]
  },
  {
   "cell_type": "code",
   "execution_count": null,
   "id": "12c6fe4d",
   "metadata": {},
   "outputs": [],
   "source": [
    "for i in indices:\n",
    "    print(f\"Box {i}: [x=\",boxes[i][0],\", y=\",boxes[i][1],\", w=\",boxes[i][2],\", h=\",boxes[i][3],\"], score=\",scores[i],\", class_id=\",class_ids[i])"
   ]
  },
  {
   "cell_type": "code",
   "execution_count": null,
   "id": "c6868816-082c-4af0-9cd3-8033051ca5d8",
   "metadata": {},
   "outputs": [],
   "source": [
    "image = Image.open(image_path).convert(\"RGB\")\n",
    "draw = ImageDraw.Draw(image)\n",
    "scale_x, scale_y = original_size[0] / 640, original_size[1] / 640\n",
    "for i in indices:\n",
    "    box = boxes[i]\n",
    "    x0, y0, x1, y1 = box[0] * scale_x, box[1] * scale_y, (box[0] + box[2]) * scale_x, (box[1] + box[3]) * scale_y\n",
    "    if x1 > x0 and y1 > y0:  # Filter any invalid boxes\n",
    "        draw.rectangle([x0, y0, x1, y1], outline=\"green\", width=5)\n",
    "        print(f\"Box {i}: [{round(x0),round(y0),round(x1),round(y1)}]\")\n",
    "    else:\n",
    "        print(f\"Skipped invalid box: {box}\")\n",
    "\n",
    "# Convert image to numpy array for plotting\n",
    "image_np = np.array(image)\n",
    "\n",
    "# Plot the image with bounding boxes\n",
    "plt.figure(figsize=(10, 10))\n",
    "plt.imshow(image_np)\n",
    "plt.axis('off')\n",
    "plt.show()"
   ]
  }
 ],
 "metadata": {
  "kernelspec": {
   "display_name": "Python 3 (ipykernel)",
   "language": "python",
   "name": "python3"
  },
  "language_info": {
   "codemirror_mode": {
    "name": "ipython",
    "version": 3
   },
   "file_extension": ".py",
   "mimetype": "text/x-python",
   "name": "python",
   "nbconvert_exporter": "python",
   "pygments_lexer": "ipython3",
   "version": "3.9.13"
  }
 },
 "nbformat": 4,
 "nbformat_minor": 5
}
